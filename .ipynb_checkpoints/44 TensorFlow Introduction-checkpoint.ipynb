{
 "cells": [
  {
   "cell_type": "code",
   "execution_count": 1,
   "id": "4ffad133",
   "metadata": {},
   "outputs": [],
   "source": [
    "import tensorflow as tf"
   ]
  },
  {
   "cell_type": "code",
   "execution_count": 2,
   "id": "353f48ee",
   "metadata": {},
   "outputs": [
    {
     "name": "stdout",
     "output_type": "stream",
     "text": [
      "2.0.0\n"
     ]
    }
   ],
   "source": [
    "print(tf.__version__)"
   ]
  },
  {
   "cell_type": "markdown",
   "id": "c79a9f69",
   "metadata": {},
   "source": [
    "# Actual Tensorflow intro"
   ]
  },
  {
   "cell_type": "code",
   "execution_count": 3,
   "id": "a099705c",
   "metadata": {},
   "outputs": [],
   "source": [
    "import numpy as np\n",
    "import matplotlib.pyplot as plt\n",
    "import tensorflow as tf"
   ]
  },
  {
   "cell_type": "markdown",
   "id": "c5209315",
   "metadata": {},
   "source": [
    "## Generate some fake data "
   ]
  },
  {
   "cell_type": "code",
   "execution_count": 4,
   "id": "44a040de",
   "metadata": {},
   "outputs": [],
   "source": [
    "observations = 1000\n",
    "\n",
    "xs = np.random.uniform(-10,10,(observations,1))\n",
    "zs = np.random.uniform(-10,10,(observations,1))\n",
    "\n",
    "generated_inputs = np.column_stack((xs,zs))\n",
    "\n",
    "noise = np.random.uniform(-1,1,(observations,1))\n",
    "\n",
    "generated_target = 2*xs - 3*zs + 5 +noise\n",
    "\n",
    "np.savez('TF_into',inputs = generated_inputs,targets=generated_target)"
   ]
  },
  {
   "cell_type": "markdown",
   "id": "8a01134c",
   "metadata": {},
   "source": [
    "# Solving with tensorflow"
   ]
  },
  {
   "cell_type": "code",
   "execution_count": 5,
   "id": "bbbd95a2",
   "metadata": {},
   "outputs": [],
   "source": [
    "training_data = np.load('TF_into.npz')"
   ]
  },
  {
   "cell_type": "code",
   "execution_count": 6,
   "id": "b084c0ae",
   "metadata": {},
   "outputs": [],
   "source": [
    "input_size = 2\n",
    "output_size = 1"
   ]
  },
  {
   "cell_type": "code",
   "execution_count": 7,
   "id": "eed5e137",
   "metadata": {},
   "outputs": [
    {
     "name": "stdout",
     "output_type": "stream",
     "text": [
      "Train on 1000 samples\n",
      "Epoch 1/100\n",
      "1000/1000 - 0s - loss: 23.8014\n",
      "Epoch 2/100\n",
      "1000/1000 - 0s - loss: 4.5898\n",
      "Epoch 3/100\n",
      "1000/1000 - 0s - loss: 1.5129\n",
      "Epoch 4/100\n",
      "1000/1000 - 0s - loss: 0.6364\n",
      "Epoch 5/100\n",
      "1000/1000 - 0s - loss: 0.4156\n",
      "Epoch 6/100\n",
      "1000/1000 - 0s - loss: 0.3571\n",
      "Epoch 7/100\n",
      "1000/1000 - 0s - loss: 0.3421\n",
      "Epoch 8/100\n",
      "1000/1000 - 0s - loss: 0.3381\n",
      "Epoch 9/100\n",
      "1000/1000 - 0s - loss: 0.3280\n",
      "Epoch 10/100\n",
      "1000/1000 - 0s - loss: 0.3258\n",
      "Epoch 11/100\n",
      "1000/1000 - 0s - loss: 0.3271\n",
      "Epoch 12/100\n",
      "1000/1000 - 0s - loss: 0.3318\n",
      "Epoch 13/100\n",
      "1000/1000 - 0s - loss: 0.3364\n",
      "Epoch 14/100\n",
      "1000/1000 - 0s - loss: 0.3262\n",
      "Epoch 15/100\n",
      "1000/1000 - 0s - loss: 0.3320\n",
      "Epoch 16/100\n",
      "1000/1000 - 0s - loss: 0.3293\n",
      "Epoch 17/100\n",
      "1000/1000 - 0s - loss: 0.3333\n",
      "Epoch 18/100\n",
      "1000/1000 - 0s - loss: 0.3290\n",
      "Epoch 19/100\n",
      "1000/1000 - 0s - loss: 0.3279\n",
      "Epoch 20/100\n",
      "1000/1000 - 0s - loss: 0.3299\n",
      "Epoch 21/100\n",
      "1000/1000 - 0s - loss: 0.3292\n",
      "Epoch 22/100\n",
      "1000/1000 - 0s - loss: 0.3304\n",
      "Epoch 23/100\n",
      "1000/1000 - 0s - loss: 0.3270\n",
      "Epoch 24/100\n",
      "1000/1000 - 0s - loss: 0.3289\n",
      "Epoch 25/100\n",
      "1000/1000 - 0s - loss: 0.3332\n",
      "Epoch 26/100\n",
      "1000/1000 - 0s - loss: 0.3394\n",
      "Epoch 27/100\n",
      "1000/1000 - 0s - loss: 0.3252\n",
      "Epoch 28/100\n",
      "1000/1000 - 0s - loss: 0.3315\n",
      "Epoch 29/100\n",
      "1000/1000 - 0s - loss: 0.3240\n",
      "Epoch 30/100\n",
      "1000/1000 - 0s - loss: 0.3312\n",
      "Epoch 31/100\n",
      "1000/1000 - 0s - loss: 0.3310\n",
      "Epoch 32/100\n",
      "1000/1000 - 0s - loss: 0.3329\n",
      "Epoch 33/100\n",
      "1000/1000 - 0s - loss: 0.3333\n",
      "Epoch 34/100\n",
      "1000/1000 - 0s - loss: 0.3302\n",
      "Epoch 35/100\n",
      "1000/1000 - 0s - loss: 0.3291\n",
      "Epoch 36/100\n",
      "1000/1000 - 0s - loss: 0.3311\n",
      "Epoch 37/100\n",
      "1000/1000 - 0s - loss: 0.3266\n",
      "Epoch 38/100\n",
      "1000/1000 - 0s - loss: 0.3281\n",
      "Epoch 39/100\n",
      "1000/1000 - 0s - loss: 0.3230\n",
      "Epoch 40/100\n",
      "1000/1000 - 0s - loss: 0.3278\n",
      "Epoch 41/100\n",
      "1000/1000 - 0s - loss: 0.3246\n",
      "Epoch 42/100\n",
      "1000/1000 - 0s - loss: 0.3363\n",
      "Epoch 43/100\n",
      "1000/1000 - 0s - loss: 0.3335\n",
      "Epoch 44/100\n",
      "1000/1000 - 0s - loss: 0.3275\n",
      "Epoch 45/100\n",
      "1000/1000 - 0s - loss: 0.3322\n",
      "Epoch 46/100\n",
      "1000/1000 - 0s - loss: 0.3261\n",
      "Epoch 47/100\n",
      "1000/1000 - 0s - loss: 0.3305\n",
      "Epoch 48/100\n",
      "1000/1000 - 0s - loss: 0.3310\n",
      "Epoch 49/100\n",
      "1000/1000 - 0s - loss: 0.3296\n",
      "Epoch 50/100\n",
      "1000/1000 - 0s - loss: 0.3338\n",
      "Epoch 51/100\n",
      "1000/1000 - 0s - loss: 0.3306\n",
      "Epoch 52/100\n",
      "1000/1000 - 0s - loss: 0.3298\n",
      "Epoch 53/100\n",
      "1000/1000 - 0s - loss: 0.3272\n",
      "Epoch 54/100\n",
      "1000/1000 - 0s - loss: 0.3354\n",
      "Epoch 55/100\n",
      "1000/1000 - 0s - loss: 0.3305\n",
      "Epoch 56/100\n",
      "1000/1000 - 0s - loss: 0.3290\n",
      "Epoch 57/100\n",
      "1000/1000 - 0s - loss: 0.3301\n",
      "Epoch 58/100\n",
      "1000/1000 - 0s - loss: 0.3326\n",
      "Epoch 59/100\n",
      "1000/1000 - 0s - loss: 0.3282\n",
      "Epoch 60/100\n",
      "1000/1000 - 0s - loss: 0.3353\n",
      "Epoch 61/100\n",
      "1000/1000 - 0s - loss: 0.3288\n",
      "Epoch 62/100\n",
      "1000/1000 - 0s - loss: 0.3307\n",
      "Epoch 63/100\n",
      "1000/1000 - 0s - loss: 0.3327\n",
      "Epoch 64/100\n",
      "1000/1000 - 0s - loss: 0.3320\n",
      "Epoch 65/100\n",
      "1000/1000 - 0s - loss: 0.3372\n",
      "Epoch 66/100\n",
      "1000/1000 - 0s - loss: 0.3278\n",
      "Epoch 67/100\n",
      "1000/1000 - 0s - loss: 0.3291\n",
      "Epoch 68/100\n",
      "1000/1000 - 0s - loss: 0.3323\n",
      "Epoch 69/100\n",
      "1000/1000 - 0s - loss: 0.3241\n",
      "Epoch 70/100\n",
      "1000/1000 - 0s - loss: 0.3343\n",
      "Epoch 71/100\n",
      "1000/1000 - 0s - loss: 0.3313\n",
      "Epoch 72/100\n",
      "1000/1000 - 0s - loss: 0.3297\n",
      "Epoch 73/100\n",
      "1000/1000 - 0s - loss: 0.3326\n",
      "Epoch 74/100\n",
      "1000/1000 - 0s - loss: 0.3254\n",
      "Epoch 75/100\n",
      "1000/1000 - 0s - loss: 0.3240\n",
      "Epoch 76/100\n",
      "1000/1000 - 0s - loss: 0.3308\n",
      "Epoch 77/100\n",
      "1000/1000 - 0s - loss: 0.3239\n",
      "Epoch 78/100\n",
      "1000/1000 - 0s - loss: 0.3253\n",
      "Epoch 79/100\n",
      "1000/1000 - 0s - loss: 0.3270\n",
      "Epoch 80/100\n",
      "1000/1000 - 0s - loss: 0.3289\n",
      "Epoch 81/100\n",
      "1000/1000 - 0s - loss: 0.3347\n",
      "Epoch 82/100\n",
      "1000/1000 - 0s - loss: 0.3315\n",
      "Epoch 83/100\n",
      "1000/1000 - 0s - loss: 0.3309\n",
      "Epoch 84/100\n",
      "1000/1000 - 0s - loss: 0.3249\n",
      "Epoch 85/100\n",
      "1000/1000 - 0s - loss: 0.3298\n",
      "Epoch 86/100\n",
      "1000/1000 - 0s - loss: 0.3351\n",
      "Epoch 87/100\n",
      "1000/1000 - 0s - loss: 0.3335\n",
      "Epoch 88/100\n",
      "1000/1000 - 0s - loss: 0.3342\n",
      "Epoch 89/100\n",
      "1000/1000 - 0s - loss: 0.3236\n",
      "Epoch 90/100\n",
      "1000/1000 - 0s - loss: 0.3253\n",
      "Epoch 91/100\n",
      "1000/1000 - 0s - loss: 0.3306\n",
      "Epoch 92/100\n",
      "1000/1000 - 0s - loss: 0.3317\n",
      "Epoch 93/100\n",
      "1000/1000 - 0s - loss: 0.3285\n",
      "Epoch 94/100\n",
      "1000/1000 - 0s - loss: 0.3273\n",
      "Epoch 95/100\n",
      "1000/1000 - 0s - loss: 0.3280\n",
      "Epoch 96/100\n",
      "1000/1000 - 0s - loss: 0.3344\n",
      "Epoch 97/100\n",
      "1000/1000 - 0s - loss: 0.3302\n",
      "Epoch 98/100\n",
      "1000/1000 - 0s - loss: 0.3338\n",
      "Epoch 99/100\n",
      "1000/1000 - 0s - loss: 0.3261\n",
      "Epoch 100/100\n",
      "1000/1000 - 0s - loss: 0.3260\n"
     ]
    },
    {
     "data": {
      "text/plain": [
       "<tensorflow.python.keras.callbacks.History at 0x7fbb927c0e50>"
      ]
     },
     "execution_count": 7,
     "metadata": {},
     "output_type": "execute_result"
    }
   ],
   "source": [
    "model = tf.keras.Sequential([\n",
    "    tf.keras.layers.Dense(output_size)\n",
    "])\n",
    "\n",
    "model.compile(optimizer='sgd',loss='mean_squared_error')\n",
    "\n",
    "model.fit(training_data['inputs'],training_data['targets'],epochs=100,verbose=2)"
   ]
  },
  {
   "cell_type": "markdown",
   "id": "f855ec81",
   "metadata": {},
   "source": [
    "#Extract the Weights and Bias"
   ]
  },
  {
   "cell_type": "markdown",
   "id": "36693892",
   "metadata": {},
   "source": [
    "model.layers[0].get_weights()"
   ]
  },
  {
   "cell_type": "code",
   "execution_count": 8,
   "id": "5ae324ab",
   "metadata": {},
   "outputs": [
    {
     "data": {
      "text/plain": [
       "[array([[ 1.9795188],\n",
       "        [-2.9750288]], dtype=float32),\n",
       " array([5.002814], dtype=float32)]"
      ]
     },
     "execution_count": 8,
     "metadata": {},
     "output_type": "execute_result"
    }
   ],
   "source": [
    "model.layers[0].get_weights()"
   ]
  },
  {
   "cell_type": "code",
   "execution_count": 9,
   "id": "86bf02f5",
   "metadata": {},
   "outputs": [],
   "source": [
    "weights = model.layers[0].get_weights()"
   ]
  },
  {
   "cell_type": "code",
   "execution_count": 10,
   "id": "dcf4fc40",
   "metadata": {},
   "outputs": [
    {
     "data": {
      "text/plain": [
       "[array([[ 1.9795188],\n",
       "        [-2.9750288]], dtype=float32),\n",
       " array([5.002814], dtype=float32)]"
      ]
     },
     "execution_count": 10,
     "metadata": {},
     "output_type": "execute_result"
    }
   ],
   "source": [
    "weights\n"
   ]
  },
  {
   "cell_type": "code",
   "execution_count": 11,
   "id": "2d47efe8",
   "metadata": {},
   "outputs": [
    {
     "data": {
      "text/plain": [
       "array([5.002814], dtype=float32)"
      ]
     },
     "execution_count": 11,
     "metadata": {},
     "output_type": "execute_result"
    }
   ],
   "source": [
    "bias = model.layers[0].get_weights()[1]\n",
    "bias"
   ]
  },
  {
   "cell_type": "markdown",
   "id": "1364ecce",
   "metadata": {},
   "source": [
    "# Extracting the outputs (Make Predictions)"
   ]
  },
  {
   "cell_type": "code",
   "execution_count": null,
   "id": "f8bb376f",
   "metadata": {},
   "outputs": [],
   "source": [
    "model.predict_on_batch(training_data['inputs'])"
   ]
  },
  {
   "cell_type": "code",
   "execution_count": null,
   "id": "91eadd3f",
   "metadata": {},
   "outputs": [],
   "source": []
  }
 ],
 "metadata": {
  "kernelspec": {
   "display_name": "Python 3",
   "language": "python",
   "name": "python3"
  },
  "language_info": {
   "codemirror_mode": {
    "name": "ipython",
    "version": 3
   },
   "file_extension": ".py",
   "mimetype": "text/x-python",
   "name": "python",
   "nbconvert_exporter": "python",
   "pygments_lexer": "ipython3",
   "version": "3.7.10"
  }
 },
 "nbformat": 4,
 "nbformat_minor": 5
}
