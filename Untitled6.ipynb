{
 "cells": [
  {
   "cell_type": "code",
   "execution_count": 1,
   "id": "a47d862c",
   "metadata": {},
   "outputs": [],
   "source": [
    "import sys\n",
    "sys.path.append('/Users/satyammalhotra/miniforge3/envs/tensor25/bin/python')"
   ]
  },
  {
   "cell_type": "code",
   "execution_count": 3,
   "id": "1b3dd398",
   "metadata": {},
   "outputs": [
    {
     "name": "stdout",
     "output_type": "stream",
     "text": [
      "['/Users/satyammalhotra/Desktop/ds_try', '/Users/satyammalhotra/miniforge3/envs/tensor25/lib/python38.zip', '/Users/satyammalhotra/miniforge3/envs/tensor25/lib/python3.8', '/Users/satyammalhotra/miniforge3/envs/tensor25/lib/python3.8/lib-dynload', '', '/Users/satyammalhotra/miniforge3/envs/tensor25/lib/python3.8/site-packages', '/Users/satyammalhotra/miniforge3/envs/tensor25/lib/python3.8/site-packages/IPython/extensions', '/Users/satyammalhotra/.ipython', '/Users/satyammalhotra/miniforge3/envs/tensor25/bin/python']\n"
     ]
    }
   ],
   "source": [
    "print(sys.path)"
   ]
  },
  {
   "cell_type": "code",
   "execution_count": 1,
   "id": "9b005978",
   "metadata": {},
   "outputs": [],
   "source": [
    "import numpy as np"
   ]
  },
  {
   "cell_type": "code",
   "execution_count": 3,
   "id": "2d84e3c1",
   "metadata": {},
   "outputs": [],
   "source": [
    "import tensorflow as tf\n",
    "import tensorflow_datasets as tfds"
   ]
  },
  {
   "cell_type": "code",
   "execution_count": null,
   "id": "944eea48",
   "metadata": {},
   "outputs": [],
   "source": []
  }
 ],
 "metadata": {
  "kernelspec": {
   "display_name": "Python 3 (ipykernel)",
   "language": "python",
   "name": "python3"
  },
  "language_info": {
   "codemirror_mode": {
    "name": "ipython",
    "version": 3
   },
   "file_extension": ".py",
   "mimetype": "text/x-python",
   "name": "python",
   "nbconvert_exporter": "python",
   "pygments_lexer": "ipython3",
   "version": "3.8.11"
  }
 },
 "nbformat": 4,
 "nbformat_minor": 5
}
